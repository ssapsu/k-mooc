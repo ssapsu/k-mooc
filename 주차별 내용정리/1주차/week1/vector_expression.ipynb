{
 "cells": [
  {
   "cell_type": "code",
   "execution_count": 1,
   "metadata": {},
   "outputs": [
    {
     "data": {
      "text/html": [
       "<div id=\"glowscript\" class=\"glowscript\"></div>"
      ],
      "text/plain": [
       "<IPython.core.display.HTML object>"
      ]
     },
     "metadata": {},
     "output_type": "display_data"
    },
    {
     "data": {
      "application/javascript": [
       "if (typeof Jupyter !== \"undefined\") { window.__context = { glowscript_container: $(\"#glowscript\").removeAttr(\"id\")};}else{ element.textContent = ' ';}"
      ],
      "text/plain": [
       "<IPython.core.display.Javascript object>"
      ]
     },
     "metadata": {},
     "output_type": "display_data"
    }
   ],
   "source": [
    "from vpython import*"
   ]
  },
  {
   "cell_type": "markdown",
   "metadata": {},
   "source": [
    "<h1>벡터 표현법</h1>\n"
   ]
  },
  {
   "cell_type": "markdown",
   "metadata": {},
   "source": [
    "pos = vector  \n",
    "벡터를 표현할 때는 위치벡터로 표현해야 하니까 위와 같은 등식으로써 표현"
   ]
  },
  {
   "cell_type": "code",
   "execution_count": 2,
   "metadata": {},
   "outputs": [
    {
     "data": {
      "application/javascript": [
       "if (typeof Jupyter !== \"undefined\") {require.undef(\"nbextensions/vpython_libraries/glow.min\");}else{element.textContent = ' ';}"
      ],
      "text/plain": [
       "<IPython.core.display.Javascript object>"
      ]
     },
     "metadata": {},
     "output_type": "display_data"
    },
    {
     "data": {
      "application/javascript": [
       "if (typeof Jupyter !== \"undefined\") {require.undef(\"nbextensions/vpython_libraries/glowcomm\");}else{element.textContent = ' ';}"
      ],
      "text/plain": [
       "<IPython.core.display.Javascript object>"
      ]
     },
     "metadata": {},
     "output_type": "display_data"
    },
    {
     "data": {
      "application/javascript": [
       "if (typeof Jupyter !== \"undefined\") {require.undef(\"nbextensions/vpython_libraries/jquery-ui.custom.min\");}else{element.textContent = ' ';}"
      ],
      "text/plain": [
       "<IPython.core.display.Javascript object>"
      ]
     },
     "metadata": {},
     "output_type": "display_data"
    },
    {
     "data": {
      "application/javascript": [
       "if (typeof Jupyter !== \"undefined\") {require([\"nbextensions/vpython_libraries/glow.min\"], function(){console.log(\"GLOW LOADED\");});}else{element.textContent = ' ';}"
      ],
      "text/plain": [
       "<IPython.core.display.Javascript object>"
      ]
     },
     "metadata": {},
     "output_type": "display_data"
    },
    {
     "data": {
      "application/javascript": [
       "if (typeof Jupyter !== \"undefined\") {require([\"nbextensions/vpython_libraries/glowcomm\"], function(){console.log(\"GLOWCOMM LOADED\");});}else{element.textContent = ' ';}"
      ],
      "text/plain": [
       "<IPython.core.display.Javascript object>"
      ]
     },
     "metadata": {},
     "output_type": "display_data"
    },
    {
     "data": {
      "application/javascript": [
       "if (typeof Jupyter !== \"undefined\") {require([\"nbextensions/vpython_libraries/jquery-ui.custom.min\"], function(){console.log(\"JQUERY LOADED\");});}else{element.textContent = ' ';}"
      ],
      "text/plain": [
       "<IPython.core.display.Javascript object>"
      ]
     },
     "metadata": {},
     "output_type": "display_data"
    }
   ],
   "source": [
    "r = vector(3,4,5)\n",
    "r_arrow = arrow(pos = vector(0,0,0), axis = r, shaftwidth = 0.2)"
   ]
  },
  {
   "cell_type": "markdown",
   "metadata": {},
   "source": [
    "arrow 객체로 화살표를 만들어야 그림을 그릴 수 있음  \n",
    "pos = (0,0,0)으로 그려야 원점을 잡을 수 있음  \n",
    "shaftwidth로 그림을 그릴 수 있음  "
   ]
  },
  {
   "cell_type": "markdown",
   "metadata": {},
   "source": [
    "위를 활용해서 직교 좌표계를 다음과 같이 그릴 수 있음"
   ]
  },
  {
   "cell_type": "code",
   "execution_count": 3,
   "metadata": {},
   "outputs": [],
   "source": [
    "#Axes\n",
    "\n",
    "x_axis = arrow(axis = vector(10,0,0), color = color.red, shaftwidth = 0.1)\n",
    "y_axis = arrow(axis = vector(0,10,0), color = color.green, shaftwidth = 0.1)\n",
    "z_axis = arrow(axis = vector(0,0,10), color = color.blue, shaftwidth = 0.1)"
   ]
  },
  {
   "cell_type": "markdown",
   "metadata": {},
   "source": [
    "<h2>벡터 표현법</h2>"
   ]
  },
  {
   "cell_type": "code",
   "execution_count": 4,
   "metadata": {},
   "outputs": [],
   "source": [
    "#벡터의 크기-scalar\n",
    "r_mag = mag(r)\n",
    "#벡터의 방향-vector\n",
    "r_hat = norm(r)\n",
    "r_hat_arrow = arrow(axis = r_hat, color = color.cyan, shaftwidth = 0.2)"
   ]
  },
  {
   "cell_type": "markdown",
   "metadata": {},
   "source": [
    "<h2>디버깅하는 법(print문 사용)</h2>"
   ]
  },
  {
   "cell_type": "code",
   "execution_count": 5,
   "metadata": {},
   "outputs": [
    {
     "name": "stdout",
     "output_type": "stream",
     "text": [
      "r: <3, 4, 5>\n",
      "r_mag: 7.0710678118654755\n",
      "r_hat: <0.424264, 0.565685, 0.707107>\n"
     ]
    }
   ],
   "source": [
    "print(\"r:\", r)\n",
    "print(\"r_mag:\", r_mag)\n",
    "print(\"r_hat:\", r_hat)"
   ]
  },
  {
   "cell_type": "markdown",
   "metadata": {},
   "source": [
    "<h1>벡터 연산</h1>\n",
    "\n",
    "<h2>벡터의 덧셈</h2>"
   ]
  },
  {
   "cell_type": "code",
   "execution_count": 7,
   "metadata": {},
   "outputs": [],
   "source": [
    "a = vector(3,4,0)\n",
    "b = vector(5,1,0)\n",
    "a_arrow = arrow(pos=vector(0,0,0), axis = a, shaftwidth = 0.2, color = color.blue)\n",
    "b_arrow = arrow(pos=a , axis = b, shaftwidth = 0.2, color = color.green)\n",
    "c = a + b\n",
    "c_arrow = arrow(pos=vector(0,0,0), axis = c, shaftwidth = 0.2, color = color.red)"
   ]
  },
  {
   "cell_type": "markdown",
   "metadata": {},
   "source": [
    "<h2>벡터의 뺄셈</h2>"
   ]
  },
  {
   "cell_type": "code",
   "execution_count": 8,
   "metadata": {},
   "outputs": [],
   "source": [
    "d = a - b\n",
    "d_arrow = arrow(pos = b, axis = d, shaftwidth=0.2, color = color.yellow)"
   ]
  },
  {
   "cell_type": "markdown",
   "metadata": {},
   "source": [
    "<h2>벡터의 내적</h2>"
   ]
  },
  {
   "cell_type": "code",
   "execution_count": 9,
   "metadata": {},
   "outputs": [
    {
     "name": "stdout",
     "output_type": "stream",
     "text": [
      "dot(a,b) =  19.0\n",
      "a + b = <8, 5, 0>\n",
      "a - b = <-2, 3, 0>\n"
     ]
    }
   ],
   "source": [
    "e = dot(a,b)\n",
    "print(\"dot(a,b) = \", e)\n",
    "print(\"a + b =\", c)\n",
    "print(\"a - b =\", d)"
   ]
  },
  {
   "cell_type": "markdown",
   "metadata": {},
   "source": [
    "<h2>벡터(속도)분해</h2>"
   ]
  },
  {
   "cell_type": "code",
   "execution_count": 10,
   "metadata": {},
   "outputs": [],
   "source": [
    "v = vector(3,4,0)\n",
    "r = vector(1,0,0)\n",
    "v_par = dot(v,r)*r\n",
    "v_per = v - v_par\n",
    "v_arr = arrow(axis=v, shaftwidth=0.2)\n",
    "r_arr = arrow(axis=r, shaftwidth=0.3, color=color.blue)\n",
    "v_par_arr = arrow(axis=v_par, shaftwidth=0.2, color=color.green)\n",
    "v_per_arr = arrow(axis=v_per, shaftwidth=0.2, color=color.yellow)"
   ]
  },
  {
   "cell_type": "markdown",
   "metadata": {},
   "source": [
    "<h2>벡터의 외적</h2>"
   ]
  },
  {
   "cell_type": "code",
   "execution_count": 11,
   "metadata": {},
   "outputs": [],
   "source": [
    "a = vector(1,2,3)\n",
    "b = vector(-1,2,0)\n",
    "c = cross(a,b)\n",
    "a_arr = arrow(axis = a, shaftwidth = 0.1, color = color.red)\n",
    "b_arr = arrow(axis = b, shaftwidth = 0.1, color = color.blue)\n",
    "c_arr = arrow(axis = c, shaftwidth = 0.1)"
   ]
  },
  {
   "cell_type": "code",
   "execution_count": null,
   "metadata": {},
   "outputs": [],
   "source": []
  }
 ],
 "metadata": {
  "interpreter": {
   "hash": "fe304c813f1a4887ec921d0dcfc24ef8e2561c783df6d2ae844d50c6b0e6331e"
  },
  "kernelspec": {
   "display_name": "Python 3 (ipykernel)",
   "language": "python",
   "name": "python3"
  },
  "language_info": {
   "codemirror_mode": {
    "name": "ipython",
    "version": 3
   },
   "file_extension": ".py",
   "mimetype": "text/x-python",
   "name": "python",
   "nbconvert_exporter": "python",
   "pygments_lexer": "ipython3",
   "version": "3.8.12"
  }
 },
 "nbformat": 4,
 "nbformat_minor": 2
}
