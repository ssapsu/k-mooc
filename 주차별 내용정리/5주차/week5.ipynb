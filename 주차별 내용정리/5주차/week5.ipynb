{
 "cells": [
  {
   "cell_type": "code",
   "execution_count": 1,
   "metadata": {},
   "outputs": [
    {
     "data": {
      "text/html": [
       "<div id=\"glowscript\" class=\"glowscript\"></div>"
      ],
      "text/plain": [
       "<IPython.core.display.HTML object>"
      ]
     },
     "metadata": {},
     "output_type": "display_data"
    },
    {
     "data": {
      "application/javascript": "if (typeof Jupyter !== \"undefined\") { window.__context = { glowscript_container: $(\"#glowscript\").removeAttr(\"id\")};}else{ element.textContent = ' ';}",
      "text/plain": [
       "<IPython.core.display.Javascript object>"
      ]
     },
     "metadata": {},
     "output_type": "display_data"
    }
   ],
   "source": [
    "from vpython import *"
   ]
  },
  {
   "cell_type": "code",
   "execution_count": 2,
   "metadata": {},
   "outputs": [
    {
     "data": {
      "application/javascript": "if (typeof Jupyter !== \"undefined\") {require.undef(\"nbextensions/vpython_libraries/glow.min\");}else{element.textContent = ' ';}",
      "text/plain": [
       "<IPython.core.display.Javascript object>"
      ]
     },
     "metadata": {},
     "output_type": "display_data"
    },
    {
     "data": {
      "application/javascript": "if (typeof Jupyter !== \"undefined\") {require.undef(\"nbextensions/vpython_libraries/glowcomm\");}else{element.textContent = ' ';}",
      "text/plain": [
       "<IPython.core.display.Javascript object>"
      ]
     },
     "metadata": {},
     "output_type": "display_data"
    },
    {
     "data": {
      "application/javascript": "if (typeof Jupyter !== \"undefined\") {require.undef(\"nbextensions/vpython_libraries/jquery-ui.custom.min\");}else{element.textContent = ' ';}",
      "text/plain": [
       "<IPython.core.display.Javascript object>"
      ]
     },
     "metadata": {},
     "output_type": "display_data"
    },
    {
     "data": {
      "application/javascript": "if (typeof Jupyter !== \"undefined\") {require([\"nbextensions/vpython_libraries/glow.min\"], function(){console.log(\"GLOW LOADED\");});}else{element.textContent = ' ';}",
      "text/plain": [
       "<IPython.core.display.Javascript object>"
      ]
     },
     "metadata": {},
     "output_type": "display_data"
    },
    {
     "data": {
      "application/javascript": "if (typeof Jupyter !== \"undefined\") {require([\"nbextensions/vpython_libraries/glowcomm\"], function(){console.log(\"GLOWCOMM LOADED\");});}else{element.textContent = ' ';}",
      "text/plain": [
       "<IPython.core.display.Javascript object>"
      ]
     },
     "metadata": {},
     "output_type": "display_data"
    },
    {
     "data": {
      "application/javascript": "if (typeof Jupyter !== \"undefined\") {require([\"nbextensions/vpython_libraries/jquery-ui.custom.min\"], function(){console.log(\"JQUERY LOADED\");});}else{element.textContent = ' ';}",
      "text/plain": [
       "<IPython.core.display.Javascript object>"
      ]
     },
     "metadata": {},
     "output_type": "display_data"
    }
   ],
   "source": [
    "r = 385000e3/2\n",
    "earth = sphere(pos = vector(r,0,0), radius = 6400000, texture = textures.earth)\n",
    "moon = sphere(pos = vector(-r,0,0), radius = 6400000, make_trail = True)\n",
    "\n",
    "sat = sphere(pos = vector(0,0,0), radius = 1737000, color = color.yellow, make_trail = True)\n",
    "\n",
    "\n",
    "sf = 3 #scailing factor\n",
    "earth.radius *= sf\n",
    "moon.radius *= sf\n",
    "sat.radius *= sf\n",
    "\n",
    "G = 6.67e-11\n",
    "earth.m = 5.972e24\n",
    "moon.m = 5.972e24\n",
    "sat.m = 1/10*earth.m\n",
    "#earth.v = vec(0,0,0)\n",
    "moon.v = vec(0,1000,0)\n",
    "sat.v = vec(0,0,0)\n",
    "\n",
    "earth.v = -moon.v*moon.m/earth.m\n",
    "\n",
    "attach_trail(earth)\n",
    "\n",
    "t=0\n",
    "dt=60*5\n",
    "\n",
    "while True:\n",
    "    rate(1000)\n",
    "    r_me = moon.pos-earth.pos\n",
    "    f_me = -G*earth.m*moon.m/mag(r_me)**2*norm(r_me)\n",
    "    r_sm = sat.pos- moon.pos\n",
    "    f_sm = -G*sat.m*moon.m/mag(r_sm)**2*norm(r_sm)\n",
    "    r_se = sat.pos - earth.pos\n",
    "    f_se = -G*sat.m*earth.m/mag(r_se)**2*norm(r_se)\n",
    "    \n",
    "    earth.v += (-f_me-f_se)/earth.m*dt\n",
    "    moon.v += (f_me-f_sm)/moon.m*dt\n",
    "    sat.v += (f_me+f_se)/sat.m*dt\n",
    "    earth.pos +=earth.v*dt\n",
    "    moon.pos += moon.v*dt\n",
    "    sat.pos +=sat.v*dt\n",
    "    t += dt"
   ]
  },
  {
   "cell_type": "code",
   "execution_count": null,
   "metadata": {},
   "outputs": [],
   "source": []
  }
 ],
 "metadata": {
  "interpreter": {
   "hash": "fe304c813f1a4887ec921d0dcfc24ef8e2561c783df6d2ae844d50c6b0e6331e"
  },
  "kernelspec": {
   "display_name": "Python 3.8.12 ('kMooc')",
   "language": "python",
   "name": "python3"
  },
  "language_info": {
   "codemirror_mode": {
    "name": "ipython",
    "version": 3
   },
   "file_extension": ".py",
   "mimetype": "text/x-python",
   "name": "python",
   "nbconvert_exporter": "python",
   "pygments_lexer": "ipython3",
   "version": "3.8.12"
  }
 },
 "nbformat": 4,
 "nbformat_minor": 2
}
